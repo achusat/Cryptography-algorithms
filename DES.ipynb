{
 "cells": [
  {
   "cell_type": "code",
   "execution_count": 1,
   "metadata": {},
   "outputs": [],
   "source": [
    "from Crypto.Cipher import DES\n",
    "import base64"
   ]
  },
  {
   "cell_type": "code",
   "execution_count": 2,
   "metadata": {},
   "outputs": [],
   "source": [
    "def padding(message):\n",
    "    while len(message) % 8 != 0:\n",
    "        message += ' '\n",
    "    return message"
   ]
  },
  {
   "cell_type": "code",
   "execution_count": 3,
   "metadata": {},
   "outputs": [],
   "source": [
    "def encrypt(message, key):\n",
    "    des = DES.new(key, DES.MODE_ECB)\n",
    "    message = padding(message)\n",
    "    key = padding(key)\n",
    "    result = des.encrypt(message)\n",
    "    result = base64.b64encode(result).decode('utf-8')\n",
    "    return result"
   ]
  },
  {
   "cell_type": "code",
   "execution_count": 4,
   "metadata": {},
   "outputs": [],
   "source": [
    "def decrypt(cipher, key):\n",
    "    key = padding(key)\n",
    "    des = DES.new(key, DES.MODE_ECB)\n",
    "    cipher = base64.b64decode(cipher)\n",
    "    cipher = bytes(cipher)\n",
    "    result = des.decrypt(cipher).decode(\"utf-8\")\n",
    "    result = result.split()\n",
    "    res = \"\"\n",
    "    for i in result:\n",
    "        res += i + ' '\n",
    "    res = res[:len(res)-1]\n",
    "    return res"
   ]
  },
  {
   "cell_type": "code",
   "execution_count": 5,
   "metadata": {},
   "outputs": [
    {
     "name": "stdout",
     "output_type": "stream",
     "text": [
      "Enter the message to be encrypted: hello world\n",
      "Enter the 8 character key: hello123\n",
      "CipherText: qKxO1KqGyL8FA3LKGVHyWQ==\n",
      "Enter the message to be decrypted: qKxO1KqGyL8FA3LKGVHyWQ==\n",
      "PlainText: hello world\n"
     ]
    }
   ],
   "source": [
    "message = input(\"Enter the message to be encrypted: \")\n",
    "key = input(\"Enter the 8 character key: \")\n",
    "cipher = encrypt(message, key)\n",
    "print(\"CipherText: \" + cipher)\n",
    "cipher = input(\"Enter the message to be decrypted: \")\n",
    "plain = decrypt(cipher, key)\n",
    "print(\"PlainText: \" + plain)"
   ]
  },
  {
   "cell_type": "code",
   "execution_count": null,
   "metadata": {},
   "outputs": [],
   "source": []
  }
 ],
 "metadata": {
  "kernelspec": {
   "display_name": "Python 3",
   "language": "python",
   "name": "python3"
  },
  "language_info": {
   "codemirror_mode": {
    "name": "ipython",
    "version": 3
   },
   "file_extension": ".py",
   "mimetype": "text/x-python",
   "name": "python",
   "nbconvert_exporter": "python",
   "pygments_lexer": "ipython3",
   "version": "3.7.3"
  }
 },
 "nbformat": 4,
 "nbformat_minor": 2
}
