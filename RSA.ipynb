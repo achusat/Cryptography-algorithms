{
 "cells": [
  {
   "cell_type": "code",
   "execution_count": 6,
   "metadata": {},
   "outputs": [],
   "source": [
    "def gcd(a,b):\n",
    "    if b == 0:\n",
    "        return a\n",
    "    return gcd(b,a%b)\n",
    "def gcd_main(a,b):\n",
    "    if a>b:\n",
    "        gcd(a,b)\n",
    "    else:\n",
    "        gcd(b,a)"
   ]
  },
  {
   "cell_type": "code",
   "execution_count": 7,
   "metadata": {},
   "outputs": [],
   "source": [
    "def initialize(p,q):\n",
    "    n = p*q\n",
    "    phi = (p-1)*(q-1)\n",
    "    \n",
    "    for e in range(2,phi):\n",
    "        if gcd_main(e,phi) == 1 and gcd_main(e,n) == 1:\n",
    "            break\n",
    "    for d in range(2,phi):\n",
    "        if (e*d)%phi == 1:\n",
    "            break\n",
    "    params = dict()\n",
    "    params[\"p\"] = p\n",
    "    params[\"q\"] = q\n",
    "    params[\"n\"] = n\n",
    "    params[\"phi\"] = phi\n",
    "    params[\"e\"] = e\n",
    "    params[\"d\"] = d\n",
    "    return params"
   ]
  },
  {
   "cell_type": "code",
   "execution_count": 8,
   "metadata": {},
   "outputs": [],
   "source": [
    "def encrypt(message, params):\n",
    "    m = message\n",
    "    c = (m**params[\"e\"])%params[\"n\"]\n",
    "    return c"
   ]
  },
  {
   "cell_type": "code",
   "execution_count": 9,
   "metadata": {},
   "outputs": [],
   "source": [
    "def decrypt(cipher, params):\n",
    "    c = cipher\n",
    "    m = (c**params[\"d\"]) % params[\"n\"]\n",
    "    return m"
   ]
  },
  {
   "cell_type": "code",
   "execution_count": 12,
   "metadata": {},
   "outputs": [
    {
     "name": "stdout",
     "output_type": "stream",
     "text": [
      "Enter the prime 'p': 2\n",
      "Enter the prime 'q': 7\n",
      "Enter the message to be encrypted: 2\n",
      "CipherText: 4\n",
      "Enter the cipher-text to be decrypted: 4\n",
      "PlainText: 2\n",
      "The parameters calculated are: {'p': 2, 'q': 7, 'n': 14, 'phi': 6, 'e': 5, 'd': 5}\n"
     ]
    }
   ],
   "source": [
    "p = int(input(\"Enter the prime 'p': \"))\n",
    "q = int(input(\"Enter the prime 'q': \"))\n",
    "message = int(input(\"Enter the message to be encrypted: \"))\n",
    "params = initialize(p,q)\n",
    "cipher = encrypt(message, params)\n",
    "print(\"CipherText: \" + str(cipher))\n",
    "cipher = int(input(\"Enter the cipher-text to be decrypted: \"))\n",
    "plain = decrypt(cipher, params)\n",
    "print(\"PlainText: \" + str(plain))\n",
    "print(\"The parameters calculated are: \" + str(params))"
   ]
  },
  {
   "cell_type": "code",
   "execution_count": null,
   "metadata": {},
   "outputs": [],
   "source": []
  }
 ],
 "metadata": {
  "kernelspec": {
   "display_name": "Python 3",
   "language": "python",
   "name": "python3"
  },
  "language_info": {
   "codemirror_mode": {
    "name": "ipython",
    "version": 3
   },
   "file_extension": ".py",
   "mimetype": "text/x-python",
   "name": "python",
   "nbconvert_exporter": "python",
   "pygments_lexer": "ipython3",
   "version": "3.7.3"
  }
 },
 "nbformat": 4,
 "nbformat_minor": 2
}
