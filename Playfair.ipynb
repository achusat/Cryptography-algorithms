{
 "cells": [
  {
   "cell_type": "code",
   "execution_count": 1,
   "metadata": {},
   "outputs": [],
   "source": [
    "def key_mat(key):\n",
    "    key = key.lower()\n",
    "    alpha = 'abcdefghiklmnopqrstuvwxyz'\n",
    "    if 'j' in key:\n",
    "        key = key.replace(\"j\",\"i\")\n",
    "    if ' ' in key:\n",
    "        key = key.replace(\" \", \"\")\n",
    "    key = key + alpha\n",
    "    keyMat = []\n",
    "    for i in key:\n",
    "        if i not in keyMat:\n",
    "            keyMat.append(i)\n",
    "    resMat = []\n",
    "    for i in range(0,5):\n",
    "        resMat.append(keyMat[i*5:i*5+5])\n",
    "    return resMat"
   ]
  },
  {
   "cell_type": "code",
   "execution_count": 2,
   "metadata": {},
   "outputs": [],
   "source": [
    "def msg_digraph(msg):\n",
    "    msg = msg.lower()\n",
    "    if 'j' in msg:\n",
    "        msg = msg.replace(\"j\",\"i\")\n",
    "    if ' ' in msg:\n",
    "        msg = msg.replace(\" \",\"\")\n",
    "    for i in range(0,len(msg)-1):\n",
    "        if msg[i]==msg[i+1]:\n",
    "            msg = msg[0:i+1] + 'x' + msg[i+1:]\n",
    "    msgMat = []\n",
    "    if len(msg)%2 == 1:\n",
    "        msg = msg + 'x'\n",
    "    i = 0\n",
    "    for e in range(0, int(len(msg)/2)):\n",
    "        msgMat.append(msg[i:i+2])\n",
    "        i += 2\n",
    "    return msgMat"
   ]
  },
  {
   "cell_type": "code",
   "execution_count": 3,
   "metadata": {},
   "outputs": [],
   "source": [
    "def locate(mat,char):\n",
    "    for i in range(0, len(mat)):\n",
    "        for j in range(0, len(mat[0])):\n",
    "            if char == mat[i][j]:\n",
    "                return i,j"
   ]
  },
  {
   "cell_type": "code",
   "execution_count": 4,
   "metadata": {},
   "outputs": [],
   "source": [
    "def encrypt(msg,key):\n",
    "    msg = msg_digraph(msg)\n",
    "    key = key_mat(key)\n",
    "    i = 0\n",
    "    res = \"\"\n",
    "    for e in msg:\n",
    "        a = msg[i][0]\n",
    "        b = msg[i][1]\n",
    "        x1,y1 = locate(key,a)\n",
    "        x2,y2 = locate(key,b)\n",
    "        if x1 != x2 and y1 != y2:\n",
    "            res = res + key[x1][y2] + key[x2][y1]\n",
    "        elif x1 == x2:\n",
    "            res = res + key[x1][(y1+1)%5] + key[x2][(y2+1)%5]\n",
    "        elif y1 == y2:\n",
    "            res = res + key[(x1+1)%5][y1] + key[(x2+1)%5][y2]\n",
    "        i += 1\n",
    "    return res"
   ]
  },
  {
   "cell_type": "code",
   "execution_count": 5,
   "metadata": {},
   "outputs": [],
   "source": [
    "def display(text):\n",
    "    i = 0\n",
    "    text = text.upper()\n",
    "    msgMat = []\n",
    "    for e in range(0, int(len(text)/2)):\n",
    "        msgMat.append(text[i:i+2])\n",
    "        i += 2\n",
    "    res = ''\n",
    "    for e in msgMat:\n",
    "        res = res + e + ' '\n",
    "    return res"
   ]
  },
  {
   "cell_type": "code",
   "execution_count": 6,
   "metadata": {},
   "outputs": [],
   "source": [
    "def decrypt(msg,key):\n",
    "    msg = msg.lower()\n",
    "    msg = msg.split(' ')\n",
    "    key = key_mat(key)\n",
    "    i = 0\n",
    "    res = \"\"\n",
    "    for e in msg:\n",
    "        a = msg[i][0]\n",
    "        b = msg[i][1]\n",
    "        x1,y1 = locate(key,a)\n",
    "        x2,y2 = locate(key,b)\n",
    "        if x1 != x2 and y1 != y2:\n",
    "            res = res + key[x1][y2] + key[x2][y1]\n",
    "        elif x1 == x2:\n",
    "            res = res + key[x1][(y1-1)%5] + key[x2][(y2-1)%5]\n",
    "        elif y1 == y2:\n",
    "            res = res + key[(x1-1)%5][y1] + key[(x2-1)%5][y2]\n",
    "        i += 1\n",
    "    return res"
   ]
  },
  {
   "cell_type": "code",
   "execution_count": 7,
   "metadata": {},
   "outputs": [
    {
     "name": "stdout",
     "output_type": "stream",
     "text": [
      "Enter the message to be encrypted: Hide the gold in the tree stump\n",
      "Enter the key: playfair example\n",
      "CipherText: BM OD ZB XD NA BE KU DM UI XM MO UV IF \n",
      "Enter the text to be decrypted: BM OD ZB XD NA BE KU DM UI XM MO UV IF\n",
      "PlainText: HI DE TH EG OL DI NT HE TR EX ES TU MP \n"
     ]
    }
   ],
   "source": [
    "message = input(\"Enter the message to be encrypted: \")\n",
    "key = input(\"Enter the key: \")\n",
    "cipher = display(encrypt(message,key))\n",
    "print(\"CipherText: \" + cipher)\n",
    "cipher = input(\"Enter the text to be decrypted: \")\n",
    "plain = display(decrypt(cipher, key))\n",
    "print(\"PlainText: \" + plain)"
   ]
  },
  {
   "cell_type": "code",
   "execution_count": null,
   "metadata": {},
   "outputs": [],
   "source": []
  }
 ],
 "metadata": {
  "kernelspec": {
   "display_name": "Python 3",
   "language": "python",
   "name": "python3"
  },
  "language_info": {
   "codemirror_mode": {
    "name": "ipython",
    "version": 3
   },
   "file_extension": ".py",
   "mimetype": "text/x-python",
   "name": "python",
   "nbconvert_exporter": "python",
   "pygments_lexer": "ipython3",
   "version": "3.7.3"
  }
 },
 "nbformat": 4,
 "nbformat_minor": 2
}
