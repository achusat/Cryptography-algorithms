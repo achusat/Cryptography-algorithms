{
 "cells": [
  {
   "cell_type": "code",
   "execution_count": 1,
   "metadata": {},
   "outputs": [],
   "source": [
    "import hashlib"
   ]
  },
  {
   "cell_type": "code",
   "execution_count": 2,
   "metadata": {},
   "outputs": [
    {
     "name": "stdout",
     "output_type": "stream",
     "text": [
      "Enter the text to be hashed: Hello World!\n"
     ]
    }
   ],
   "source": [
    "string = input(\"Enter the text to be hashed: \")\n",
    "string = string.encode()\n",
    "sha1 = hashlib.sha1(string)\n",
    "sha256 = hashlib.sha256(string)\n",
    "sha512 = hashlib.sha512(string)"
   ]
  },
  {
   "cell_type": "code",
   "execution_count": 3,
   "metadata": {},
   "outputs": [
    {
     "name": "stdout",
     "output_type": "stream",
     "text": [
      "SHA1: 2ef7bde608ce5404e97d5f042f95f89f1c232871\n",
      "SHA256: 7f83b1657ff1fc53b92dc18148a1d65dfc2d4b1fa3d677284addd200126d9069\n",
      "SHA512: 861844d6704e8573fec34d967e20bcfef3d424cf48be04e6dc08f2bd58c729743371015ead891cc3cf1c9d34b49264b510751b1ff9e537937bc46b5d6ff4ecc8\n"
     ]
    }
   ],
   "source": [
    "print(\"SHA1: \" + sha1.hexdigest())\n",
    "print(\"SHA256: \" + sha256.hexdigest())\n",
    "print(\"SHA512: \" + sha512.hexdigest())"
   ]
  }
 ],
 "metadata": {
  "kernelspec": {
   "display_name": "Python 3",
   "language": "python",
   "name": "python3"
  },
  "language_info": {
   "codemirror_mode": {
    "name": "ipython",
    "version": 3
   },
   "file_extension": ".py",
   "mimetype": "text/x-python",
   "name": "python",
   "nbconvert_exporter": "python",
   "pygments_lexer": "ipython3",
   "version": "3.7.3"
  }
 },
 "nbformat": 4,
 "nbformat_minor": 2
}
