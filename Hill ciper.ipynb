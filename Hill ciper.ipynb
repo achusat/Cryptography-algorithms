{
 "cells": [
  {
   "cell_type": "code",
   "execution_count": 1,
   "metadata": {},
   "outputs": [],
   "source": [
    "import numpy as np"
   ]
  },
  {
   "cell_type": "code",
   "execution_count": 2,
   "metadata": {},
   "outputs": [],
   "source": [
    "def encrypt(s,key):\n",
    "        n = list()\n",
    "        for i in s:\n",
    "                n.append(ord(i))\n",
    "        x = np.array(n)-97\n",
    "        x = x.reshape(len(s),1)\n",
    "        n1 = list()\n",
    "        for i in key:\n",
    "                n1.append(ord(i))\n",
    "        k = np.array(n1)-97\n",
    "        k = k.reshape(len(s),len(s))\n",
    "        print(x)\n",
    "        print(k)\n",
    "        res = k.dot(x)%26\n",
    "        res = res.reshape(1,len(s))\n",
    "        res = res.tolist()\n",
    "        result = ''\n",
    "        for i in res[0]:\n",
    "                result = result + chr(i+97)\n",
    "        return result"
   ]
  },
  {
   "cell_type": "code",
   "execution_count": 3,
   "metadata": {},
   "outputs": [
    {
     "name": "stdout",
     "output_type": "stream",
     "text": [
      "Enter message: act\n",
      "Enter key: baaabaaab\n",
      "[[ 0]\n",
      " [ 2]\n",
      " [19]]\n",
      "[[1 0 0]\n",
      " [0 1 0]\n",
      " [0 0 1]]\n",
      "Encrypted message: act\n"
     ]
    }
   ],
   "source": [
    "s = input(\"Enter message: \")\n",
    "k = input(\"Enter key: \")\n",
    "print('Encrypted message: ' + encrypt(s,k))"
   ]
  },
  {
   "cell_type": "code",
   "execution_count": null,
   "metadata": {},
   "outputs": [],
   "source": []
  }
 ],
 "metadata": {
  "kernelspec": {
   "display_name": "Python 3",
   "language": "python",
   "name": "python3"
  },
  "language_info": {
   "codemirror_mode": {
    "name": "ipython",
    "version": 3
   },
   "file_extension": ".py",
   "mimetype": "text/x-python",
   "name": "python",
   "nbconvert_exporter": "python",
   "pygments_lexer": "ipython3",
   "version": "3.7.3"
  }
 },
 "nbformat": 4,
 "nbformat_minor": 2
}
