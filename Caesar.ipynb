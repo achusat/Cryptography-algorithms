{
 "cells": [
  {
   "cell_type": "code",
   "execution_count": 26,
   "metadata": {},
   "outputs": [],
   "source": [
    "def encrypt(s):\n",
    "    res = ''\n",
    "    for i in s:\n",
    "        if i is ' ':\n",
    "            res += ' '\n",
    "            continue\n",
    "        tmp = ord(i)\n",
    "        tmp += 3\n",
    "        if tmp >= 123:\n",
    "            tmp = ord('a') + (tmp - 97) % 26\n",
    "        res += chr(tmp)\n",
    "    return res"
   ]
  },
  {
   "cell_type": "code",
   "execution_count": 30,
   "metadata": {},
   "outputs": [],
   "source": [
    "def decrypt(s):\n",
    "    res = ''\n",
    "    for i in s:\n",
    "        if i is ' ':\n",
    "            res += ' '\n",
    "            continue\n",
    "        tmp = ord(i)\n",
    "        tmp -=3\n",
    "        if tmp < 97 and tmp > 91:\n",
    "            tmp = ord('z') - (97 - tmp) + 1\n",
    "        res += chr(tmp)\n",
    "    return res"
   ]
  },
  {
   "cell_type": "code",
   "execution_count": 31,
   "metadata": {},
   "outputs": [
    {
     "name": "stdout",
     "output_type": "stream",
     "text": [
      "Enter message to be encrypted: Hello World\n",
      "Encrypted message: Khoor Zruog\n"
     ]
    }
   ],
   "source": [
    "msg = input(\"Enter message to be encrypted: \")\n",
    "print(\"Encrypted message: \" + encrypt(msg))"
   ]
  },
  {
   "cell_type": "code",
   "execution_count": 32,
   "metadata": {},
   "outputs": [
    {
     "name": "stdout",
     "output_type": "stream",
     "text": [
      "Enter message to be decrypted: Khoor Zruog\n",
      "Decrypted message: Hello World\n"
     ]
    }
   ],
   "source": [
    "msg = input(\"Enter message to be decrypted: \")\n",
    "print(\"Decrypted message: \" + decrypt(msg))"
   ]
  },
  {
   "cell_type": "code",
   "execution_count": null,
   "metadata": {},
   "outputs": [],
   "source": []
  }
 ],
 "metadata": {
  "kernelspec": {
   "display_name": "Python 3",
   "language": "python",
   "name": "python3"
  },
  "language_info": {
   "codemirror_mode": {
    "name": "ipython",
    "version": 3
   },
   "file_extension": ".py",
   "mimetype": "text/x-python",
   "name": "python",
   "nbconvert_exporter": "python",
   "pygments_lexer": "ipython3",
   "version": "3.7.3"
  }
 },
 "nbformat": 4,
 "nbformat_minor": 2
}
